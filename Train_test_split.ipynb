{
 "cells": [
  {
   "cell_type": "code",
   "execution_count": 4,
   "metadata": {},
   "outputs": [],
   "source": [
    "import os\n",
    "import tensorflow as tf\n",
    "from tensorflow import keras\n",
    "import matplotlib.pyplot as plt\n",
    "from re import search\n",
    "import shutil\n",
    "from shutil import copyfile\n",
    "import random"
   ]
  },
  {
   "cell_type": "code",
   "execution_count": null,
   "metadata": {},
   "outputs": [],
   "source": [
    "#TO SPLIT ANY IMAGE DATASET FOLDER INTO TRAIN AND TEST FOLDERS\n",
    "#BELOW IS AN EXAMPLE FOR A BREAST CANCER DATASET WITH IMAGES UNDER SEPERATE FOLDERS \"BENIGN\", \"MALIGNANT\", \"NORMAL\""
   ]
  },
  {
   "cell_type": "code",
   "execution_count": 19,
   "metadata": {},
   "outputs": [],
   "source": [
    "#base dataset path\n",
    "base_dir = 'D:/combined breast cancer dataset/'\n",
    "\n",
    "#destination path created beforehand\n",
    "test_dir ='D:/combined breast cancer dataset/splitted/test/'\n",
    "train_dir = 'D:/combined breast cancer dataset/splitted/train/'\n",
    "\n",
    "\n",
    "source_benign = os.path.join(base_dir,'benign/')\n",
    "source_malignant = os.path.join(base_dir,'malignant/')\n",
    "source_normal = os.path.join(base_dir,'normal/')\n",
    "\n",
    "train_benign = os.path.join(train_dir,'benign/')\n",
    "train_malignant = os.path.join(train_dir,'malignant/')\n",
    "train_normal = os.path.join(train_dir,'normal/')\n",
    "\n",
    "test_benign = os.path.join(test_dir,'benign/')\n",
    "test_malignant = os.path.join(test_dir,'malignant/')\n",
    "test_normal = os.path.join(test_dir,'normal/')\n",
    "\n",
    "def split_data(SOURCE, TRAINING, TESTING, SPLIT_SIZE):\n",
    "\n",
    "    dataset=[]\n",
    "    for unit_data in os.listdir(SOURCE):\n",
    "        data = SOURCE + unit_data\n",
    "        if(os.path.getsize(data)==0):\n",
    "            continue\n",
    "        dataset.append(unit_data)\n",
    "        \n",
    "    train_data_length= int(len(dataset)* SPLIT_SIZE)\n",
    "    test_data_length=int(len(dataset) - train_data_length)\n",
    "    random.sample(dataset,len(dataset))\n",
    "    train_data=dataset[:train_data_length]\n",
    "    test_data=dataset[train_data_length:]\n",
    "\n",
    "\n",
    "    for unit_data in train_data:\n",
    "        data = SOURCE + unit_data\n",
    "        final_location = TRAINING +unit_data\n",
    "        copyfile(data,final_location)\n",
    "    for unit_data in test_data:\n",
    "        data = SOURCE + unit_data\n",
    "        final_location = TESTING + unit_data\n",
    "        copyfile(data,final_location)\n",
    "        \n",
    "split_size=0.8\n",
    "        \n",
    "split_data(source_benign,train_benign,test_benign, split_size)\n",
    "split_data(source_malignant,train_malignant,test_malignant, split_size)\n",
    "split_data(source_normal,train_normal,test_normal, split_size)"
   ]
  },
  {
   "cell_type": "code",
   "execution_count": 18,
   "metadata": {},
   "outputs": [],
   "source": []
  },
  {
   "cell_type": "code",
   "execution_count": null,
   "metadata": {},
   "outputs": [],
   "source": []
  }
 ],
 "metadata": {
  "kernelspec": {
   "display_name": "Python 3",
   "language": "python",
   "name": "python3"
  },
  "language_info": {
   "codemirror_mode": {
    "name": "ipython",
    "version": 3
   },
   "file_extension": ".py",
   "mimetype": "text/x-python",
   "name": "python",
   "nbconvert_exporter": "python",
   "pygments_lexer": "ipython3",
   "version": "3.8.5"
  }
 },
 "nbformat": 4,
 "nbformat_minor": 4
}
