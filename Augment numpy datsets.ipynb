{
 "cells": [
  {
   "cell_type": "code",
   "execution_count": 2,
   "metadata": {},
   "outputs": [],
   "source": [
    "import numpy as np\n",
    "\n",
    "import tensorflow as tf"
   ]
  },
  {
   "cell_type": "code",
   "execution_count": null,
   "metadata": {},
   "outputs": [],
   "source": [
    "#FOR EXAMPLE OF NUMPY DATASET"
   ]
  },
  {
   "cell_type": "code",
   "execution_count": 3,
   "metadata": {},
   "outputs": [],
   "source": [
    "X_train = np.load('X_train.npy')\n",
    "Y_train = np.load('Y_train.npy')\n",
    "X_test = np.load('X_test.npy')\n",
    "Y_test = np.load('Y_test.npy')"
   ]
  },
  {
   "cell_type": "code",
   "execution_count": 5,
   "metadata": {},
   "outputs": [],
   "source": [
    "x_full= np.concatenate([X_train, X_test], axis=0)\n",
    "y_full= np.concatenate([Y_train, Y_test], axis=0)"
   ]
  },
  {
   "cell_type": "code",
   "execution_count": 6,
   "metadata": {},
   "outputs": [
    {
     "data": {
      "text/plain": [
       "(990, 112, 112, 1)"
      ]
     },
     "execution_count": 6,
     "metadata": {},
     "output_type": "execute_result"
    }
   ],
   "source": [
    "x_full.shape"
   ]
  },
  {
   "cell_type": "code",
   "execution_count": 7,
   "metadata": {},
   "outputs": [],
   "source": [
    "def augment_data(dataset, dataset_labels, augementation_factor=1, use_random_rotation=True, use_random_shear=False, use_random_shift=True, use_random_zoom=False):\n",
    "\taugmented_image = []\n",
    "\taugmented_image_labels = []\n",
    "\n",
    "\tfor num in range (0, dataset.shape[0]):\n",
    "\t\t#print(dataset[num].shape)\n",
    "\n",
    "\t\t\n",
    "\t\tfor i in range(0, augementation_factor):\n",
    "\t\t\t# original image:\n",
    "\t\t\taugmented_image.append(dataset[num])\n",
    "\t\t\taugmented_image_labels.append(dataset_labels[num])\n",
    "\n",
    "\t\t\tif use_random_rotation:\n",
    "\t\t\t\taugmented_image.append(tf.keras.preprocessing.image.random_rotation(dataset[num], 90, row_axis=0, col_axis=1, channel_axis=2))\n",
    "\t\t\t\taugmented_image_labels.append(dataset_labels[num])\n",
    "\n",
    "\t\t\tif use_random_shear:\n",
    "\t\t\t\taugmented_image.append(tf.keras.preprocessing.image.random_shear(dataset[num], 0.2, row_axis=0, col_axis=1, channel_axis=2))\n",
    "\t\t\t\taugmented_image_labels.append(dataset_labels[num])\n",
    "\n",
    "\t\t\tif use_random_shift:\n",
    "\t\t\t\taugmented_image.append(tf.keras.preprocessing.image.random_shift(dataset[num], 0.2, 0.2, row_axis=0, col_axis=1, channel_axis=2))\n",
    "\t\t\t\taugmented_image_labels.append(dataset_labels[num])\n",
    "\n",
    "\t\t\tif use_random_zoom:\n",
    "\t\t\t\taugmented_image.append(tf.keras.preprocessing.image.random_zoom(dataset[num], 0.9, row_axis=0, col_axis=1, channel_axis=2))\n",
    "\t\t\t\taugmented_image_labels.append(dataset_labels[num])\n",
    "\n",
    "\treturn np.array(augmented_image), np.array(augmented_image_labels)"
   ]
  },
  {
   "cell_type": "code",
   "execution_count": 8,
   "metadata": {},
   "outputs": [],
   "source": [
    "x_aug, y_aug= augment_data(x_full,y_full)"
   ]
  },
  {
   "cell_type": "code",
   "execution_count": 10,
   "metadata": {},
   "outputs": [
    {
     "data": {
      "text/plain": [
       "(2970, 112, 112, 1)"
      ]
     },
     "execution_count": 10,
     "metadata": {},
     "output_type": "execute_result"
    }
   ],
   "source": [
    "x_aug.shape"
   ]
  },
  {
   "cell_type": "code",
   "execution_count": 11,
   "metadata": {},
   "outputs": [],
   "source": [
    "from sklearn.model_selection import train_test_split"
   ]
  },
  {
   "cell_type": "code",
   "execution_count": 14,
   "metadata": {},
   "outputs": [],
   "source": [
    " XX_train, XX_test, yy_train, yy_test = train_test_split(x_aug, y_aug, test_size=0.2, random_state=1)"
   ]
  },
  {
   "cell_type": "code",
   "execution_count": 15,
   "metadata": {},
   "outputs": [
    {
     "name": "stdout",
     "output_type": "stream",
     "text": [
      "(2376, 112, 112, 1)\n",
      "(594, 112, 112, 1)\n",
      "(2376, 1)\n",
      "(594, 1)\n"
     ]
    }
   ],
   "source": [
    "print(XX_train.shape)\n",
    "print(XX_test.shape)\n",
    "print(yy_train.shape)\n",
    "print(yy_test.shape)"
   ]
  },
  {
   "cell_type": "code",
   "execution_count": 16,
   "metadata": {},
   "outputs": [],
   "source": [
    "np.save('X_train_balance_resized_increased',XX_train)\n",
    "np.save('Y_train_balance_resized_increased',yy_train)\n",
    "\n",
    "np.save('X_test_balance_resized_increased',XX_test)\n",
    "np.save('Y_test_balance_resized_increased',yy_test)"
   ]
  },
  {
   "cell_type": "code",
   "execution_count": null,
   "metadata": {},
   "outputs": [],
   "source": []
  }
 ],
 "metadata": {
  "kernelspec": {
   "display_name": "Python 3",
   "language": "python",
   "name": "python3"
  },
  "language_info": {
   "codemirror_mode": {
    "name": "ipython",
    "version": 3
   },
   "file_extension": ".py",
   "mimetype": "text/x-python",
   "name": "python",
   "nbconvert_exporter": "python",
   "pygments_lexer": "ipython3",
   "version": "3.8.5"
  }
 },
 "nbformat": 4,
 "nbformat_minor": 4
}
