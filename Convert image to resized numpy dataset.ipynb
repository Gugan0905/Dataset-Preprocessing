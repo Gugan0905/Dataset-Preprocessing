{
 "cells": [
  {
   "cell_type": "code",
   "execution_count": 1,
   "metadata": {},
   "outputs": [],
   "source": [
    "import os\n",
    "import numpy as np\n",
    "import cv2"
   ]
  },
  {
   "cell_type": "code",
   "execution_count": null,
   "metadata": {},
   "outputs": [],
   "source": [
    "#FOR THE EXAMPLE OF A BREAST CANCER DATASET THAT CONSISTS OF IMAGES SPLIT INTO TRAIN AND TEST,\n",
    "#AND IN SEPERATE FOLDERS \"BENIGN\", \"MALIGNANT\", AND \"NORMAL\"\n",
    "#FOLDERS\n",
    "#\n",
    "##TRAIN\n",
    "## BENIGN\n",
    "##  ...images\n",
    "## MALIGNANT\n",
    "##  ...images\n",
    "## NORMAL\n",
    "##  ...images\n",
    "##TEST\n",
    "## BENIGN\n",
    "##  ...images\n",
    "## MALIGNANT\n",
    "##  ...images\n",
    "## NORMAL\n",
    "##  ...images"
   ]
  },
  {
   "cell_type": "markdown",
   "metadata": {},
   "source": [
    "# # converting all images in the folder to 200x200"
   ]
  },
  {
   "cell_type": "code",
   "execution_count": null,
   "metadata": {},
   "outputs": [],
   "source": [
    "from PIL import Image\n",
    "import os, sys\n",
    "\n",
    "path = \"D:/second paper/combined breast cancer dataset/splitted/test/normal/\"\n",
    "dest = \"D:/second paper/combined breast cancer dataset/splitted resized/test/normal/\"\n",
    "dirs = os.listdir( path )\n",
    "\n",
    "def resize():\n",
    "    for item in dirs:\n",
    "        if os.path.isfile(path+item):\n",
    "            im = Image.open(path+item)\n",
    "            f, e = os.path.splitext(path+item)\n",
    "            #print(item)\n",
    "            imResize = im.resize((200,200), Image.ANTIALIAS)\n",
    "            imResize.save(dest + item + ' resized.jpg', 'JPEG', quality=90)\n",
    "\n",
    "resize()"
   ]
  },
  {
   "cell_type": "markdown",
   "metadata": {},
   "source": [
    "# convert to numpy array"
   ]
  },
  {
   "cell_type": "code",
   "execution_count": 2,
   "metadata": {},
   "outputs": [
    {
     "name": "stdout",
     "output_type": "stream",
     "text": [
      "D:/second paper/combined breast cancer dataset/splitted resized/train/benign\n",
      "D:/second paper/combined breast cancer dataset/splitted resized/train/malignant\n",
      "D:/second paper/combined breast cancer dataset/splitted resized/train/normal\n"
     ]
    }
   ],
   "source": [
    "#train array\n",
    "base='D:/second paper/combined breast cancer dataset/splitted resized/train/'\n",
    "X_train, Y_train = [], []\n",
    "folders = os.listdir(base)\n",
    "folders = folders[0:]\n",
    "\n",
    "for folder in folders:\n",
    "            \n",
    "    folder_path = os.path.join(base, folder)\n",
    "    print(folder_path)\n",
    "            \n",
    "            \n",
    "            \n",
    "    for ims in os.listdir(folder_path):\n",
    "\n",
    "        img_path = os.path.join(folder_path, ims)\n",
    "        img=cv2.imread(img_path)\n",
    "        gray = cv2.cvtColor(img, cv2.COLOR_BGR2GRAY)\n",
    "        X_train.append(np.array(gray))\n",
    "        if (folder=='normal'):\n",
    "            Y_train.append(0)\n",
    "        elif (folder=='benign'):\n",
    "            Y_train.append(1)\n",
    "        elif (folder=='malignant'):\n",
    "            Y_train.append(2)"
   ]
  },
  {
   "cell_type": "code",
   "execution_count": 3,
   "metadata": {},
   "outputs": [
    {
     "name": "stdout",
     "output_type": "stream",
     "text": [
      "D:/second paper/combined breast cancer dataset/splitted resized/test/benign\n",
      "D:/second paper/combined breast cancer dataset/splitted resized/test/malignant\n",
      "D:/second paper/combined breast cancer dataset/splitted resized/test/normal\n"
     ]
    }
   ],
   "source": [
    "#test array\n",
    "base='D:/second paper/combined breast cancer dataset/splitted resized/test/'\n",
    "X_test, Y_test = [], []\n",
    "folders = os.listdir(base)\n",
    "folders = folders[0:]\n",
    "\n",
    "for folder in folders:\n",
    "            \n",
    "    folder_path = os.path.join(base, folder)\n",
    "    print(folder_path)\n",
    "            \n",
    "            \n",
    "            \n",
    "    for ims in os.listdir(folder_path):\n",
    "\n",
    "        img_path = os.path.join(folder_path, ims)\n",
    "        img=cv2.imread(img_path)\n",
    "        gray = cv2.cvtColor(img, cv2.COLOR_BGR2GRAY)\n",
    "        X_test.append(np.array(gray))\n",
    "        if (folder=='normal'):\n",
    "            Y_test.append(0)\n",
    "        elif (folder=='benign'):\n",
    "            Y_test.append(1)\n",
    "        elif (folder=='malignant'):\n",
    "            Y_test.append(2)"
   ]
  },
  {
   "cell_type": "code",
   "execution_count": 8,
   "metadata": {},
   "outputs": [],
   "source": [
    "x_train = np.array(X_train) # ADD THIS\n",
    "x_train = x_train.reshape(x_train.shape[0], 200, 200, 1) # ADD THIS\n",
    "\n",
    "x_test = np.array(X_test) # ADD THIS\n",
    "x_test = x_test.reshape(x_test.shape[0], 200, 200, 1)"
   ]
  },
  {
   "cell_type": "code",
   "execution_count": 10,
   "metadata": {},
   "outputs": [
    {
     "data": {
      "text/plain": [
       "(823, 200, 200, 1)"
      ]
     },
     "execution_count": 10,
     "metadata": {},
     "output_type": "execute_result"
    }
   ],
   "source": [
    "x_train.shape"
   ]
  },
  {
   "cell_type": "code",
   "execution_count": 11,
   "metadata": {},
   "outputs": [],
   "source": [
    "np.save('X_train',x_test)\n",
    "np.save('Y_train',Y_test)\n",
    "\n",
    "np.save('X_test',x_test)\n",
    "np.save('Y_test',Y_test)"
   ]
  },
  {
   "cell_type": "markdown",
   "metadata": {},
   "source": [
    "# Checking array"
   ]
  },
  {
   "cell_type": "code",
   "execution_count": 12,
   "metadata": {},
   "outputs": [],
   "source": [
    "x_train = np.load('X_train.npy')\n",
    "x_test = np.load('X_test.npy')\n",
    "y_train = np.load('Y_train.npy')\n",
    "y_test = np.load('Y_test.npy')"
   ]
  },
  {
   "cell_type": "code",
   "execution_count": null,
   "metadata": {},
   "outputs": [],
   "source": [
    "print(y_train)"
   ]
  },
  {
   "cell_type": "code",
   "execution_count": 13,
   "metadata": {},
   "outputs": [
    {
     "data": {
      "text/plain": [
       "207"
      ]
     },
     "execution_count": 13,
     "metadata": {},
     "output_type": "execute_result"
    }
   ],
   "source": [
    "x_train.shape[0]"
   ]
  }
 ],
 "metadata": {
  "kernelspec": {
   "display_name": "Python 3",
   "language": "python",
   "name": "python3"
  },
  "language_info": {
   "codemirror_mode": {
    "name": "ipython",
    "version": 3
   },
   "file_extension": ".py",
   "mimetype": "text/x-python",
   "name": "python",
   "nbconvert_exporter": "python",
   "pygments_lexer": "ipython3",
   "version": "3.8.5"
  }
 },
 "nbformat": 4,
 "nbformat_minor": 4
}
